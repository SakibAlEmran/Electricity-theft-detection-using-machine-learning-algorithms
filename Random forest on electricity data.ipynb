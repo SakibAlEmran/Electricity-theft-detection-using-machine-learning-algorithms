{
 "cells": [
  {
   "cell_type": "code",
   "execution_count": 1,
   "metadata": {},
   "outputs": [],
   "source": [
    "import numpy as np\n",
    "import matplotlib.pyplot as plt\n",
    "import pandas as pd"
   ]
  },
  {
   "cell_type": "code",
   "execution_count": 2,
   "metadata": {},
   "outputs": [],
   "source": [
    "data = pd.read_csv('/home/zero/Downloads/Theft_Data.csv')"
   ]
  },
  {
   "cell_type": "code",
   "execution_count": 3,
   "metadata": {},
   "outputs": [],
   "source": [
    "X = data.iloc[ : , :-1]\n",
    "Y = data.iloc[ : , 365]"
   ]
  },
  {
   "cell_type": "code",
   "execution_count": 4,
   "metadata": {},
   "outputs": [
    {
     "name": "stdout",
     "output_type": "stream",
     "text": [
      "There are 6968 samples in the training set and 2987 samples in the test set\n",
      "\n"
     ]
    },
    {
     "name": "stderr",
     "output_type": "stream",
     "text": [
      "/home/zero/documents/lib/python3.6/site-packages/sklearn/cross_validation.py:41: DeprecationWarning: This module was deprecated in version 0.18 in favor of the model_selection module into which all the refactored classes and functions are moved. Also note that the interface of the new CV iterators are different from that of this module. This module will be removed in 0.20.\n",
      "  \"This module will be removed in 0.20.\", DeprecationWarning)\n"
     ]
    }
   ],
   "source": [
    "from sklearn.cross_validation import train_test_split\n",
    "X_train, X_test, Y_train, Y_test = train_test_split(X, Y, test_size = 0.3, random_state = 0)\n",
    "print('There are {} samples in the training set and {} samples in the test set'.format(\n",
    "X_train.shape[0], X_test.shape[0]))\n",
    "print()"
   ]
  },
  {
   "cell_type": "code",
   "execution_count": 5,
   "metadata": {},
   "outputs": [],
   "source": [
    "# Feature Scaling\n",
    "from sklearn.preprocessing import StandardScaler\n",
    "sc = StandardScaler()\n",
    "X_train = sc.fit_transform(X_train)\n",
    "X_test = sc.fit_transform(X_test)"
   ]
  },
  {
   "cell_type": "code",
   "execution_count": 6,
   "metadata": {},
   "outputs": [
    {
     "name": "stdout",
     "output_type": "stream",
     "text": [
      "The accuracy of the svm classifier on test data is 0.87 out of 1\n"
     ]
    }
   ],
   "source": [
    "#Fitting Random Forest to the Training set\n",
    "from sklearn.ensemble import RandomForestClassifier\n",
    "classifier = RandomForestClassifier(n_estimators = 10, criterion = 'entropy', random_state = 0)\n",
    "classifier.fit(X_train, Y_train)\n",
    "print('The accuracy of the RF classifier on test data is {:.2f} out of 1'.format(classifier.score(X_test, Y_test)))"
   ]
  },
  {
   "cell_type": "code",
   "execution_count": 7,
   "metadata": {},
   "outputs": [],
   "source": [
    "Y_pred = classifier.predict(X_test)"
   ]
  },
  {
   "cell_type": "code",
   "execution_count": 8,
   "metadata": {},
   "outputs": [
    {
     "name": "stdout",
     "output_type": "stream",
     "text": [
      "[[2439  138]\n",
      " [ 259  151]]\n",
      "             precision    recall  f1-score   support\n",
      "\n",
      "          0       0.90      0.95      0.92      2577\n",
      "          1       0.52      0.37      0.43       410\n",
      "\n",
      "avg / total       0.85      0.87      0.86      2987\n",
      "\n",
      "0.8670907264814195\n"
     ]
    }
   ],
   "source": [
    "# Making the Confusion Matrix\n",
    "from sklearn.metrics import classification_report, confusion_matrix, accuracy_score\n",
    "cm = confusion_matrix(Y_test,Y_pred)\n",
    "print(cm)\n",
    "print(classification_report(Y_test,Y_pred))\n",
    "print(accuracy_score(Y_test, Y_pred))"
   ]
  },
  {
   "cell_type": "code",
   "execution_count": 9,
   "metadata": {},
   "outputs": [
    {
     "data": {
      "image/png": "[encoded data removed]",
      "text/plain": [
       "<Figure size 432x360 with 2 Axes>"
      ]
     },
     "metadata": {},
     "output_type": "display_data"
    }
   ],
   "source": [
    "#confusion matrix visualization\n",
    "import seaborn as sns\n",
    "import matplotlib.pyplot as plt\n",
    "\n",
    "f, ax=plt.subplots(figsize=(6,5))\n",
    "sns.heatmap(cm,annot=True,linewidths=0.5,linecolor=\"white\",fmt=\".0f\",ax=ax)\n",
    "plt.xlabel('Y_pred', size = 12)\n",
    "plt.ylabel('Y_true', size =12)\n",
    "plt.title('confusion matrix', size =12)\n",
    "plt.savefig('confusion3.jpg')\n",
    "plt.show()"
   ]
  },
  {
   "cell_type": "code",
   "execution_count": 10,
   "metadata": {},
   "outputs": [
    {
     "name": "stdout",
     "output_type": "stream",
     "text": [
      "2987\n"
     ]
    }
   ],
   "source": [
    "print(len(Y_pred))"
   ]
  },
  {
   "cell_type": "code",
   "execution_count": 11,
   "metadata": {},
   "outputs": [
    {
     "name": "stdout",
     "output_type": "stream",
     "text": [
      "50\n"
     ]
    }
   ],
   "source": [
    "a = []\n",
    "for i in range(50):\n",
    "    a.append(i)\n",
    "print (len(a))\n",
    "b = Y_test[:50]\n",
    "c = Y_pred[:50]"
   ]
  },
  {
   "cell_type": "code",
   "execution_count": 13,
   "metadata": {},
   "outputs": [
    {
     "data": {
      "image/png": "[encoded data removed]",
      "text/plain": [
       "<Figure size 432x288 with 1 Axes>"
      ]
     },
     "metadata": {},
     "output_type": "display_data"
    }
   ],
   "source": [
    "import numpy\n",
    "import matplotlib.pyplot as plt\n",
    "\n",
    "\n",
    "fig = plt.figure()\n",
    "ax = fig.gca()\n",
    "ax.set_xticks(numpy.arange(0, 51, 5))\n",
    "plt.xlabel('number of test data', size = 12)\n",
    "plt.ylabel('theft=1 & legal= 0', size =12)\n",
    "plt.title('prediction test', size =12)\n",
    "plt.scatter(a,b,a,c)\n",
    "plt.grid()\n",
    "plt.savefig('prediction3.png')"
   ]
  },
  {
   "cell_type": "code",
   "execution_count": 137,
   "metadata": {},
   "outputs": [
    {
     "name": "stdout",
     "output_type": "stream",
     "text": [
      "5853    0\n",
      "8119    0\n",
      "6285    0\n",
      "8698    0\n",
      "2746    0\n",
      "4663    0\n",
      "7988    0\n",
      "1167    1\n",
      "5826    0\n",
      "1194    1\n",
      "7667    0\n",
      "7745    0\n",
      "3981    0\n",
      "2577    0\n",
      "3114    0\n",
      "5697    0\n",
      "5467    0\n",
      "8079    0\n",
      "6981    0\n",
      "8907    0\n",
      "5809    0\n",
      "9785    0\n",
      "6747    0\n",
      "8552    0\n",
      "1826    0\n",
      "5477    0\n",
      "8326    0\n",
      "9864    0\n",
      "1585    0\n",
      "4238    0\n",
      "       ..\n",
      "5647    0\n",
      "6725    0\n",
      "202     1\n",
      "2980    0\n",
      "298     1\n",
      "9530    0\n",
      "6525    0\n",
      "7207    0\n",
      "5198    0\n",
      "6223    0\n",
      "8799    0\n",
      "7154    0\n",
      "2819    0\n",
      "5243    0\n",
      "4404    0\n",
      "8413    0\n",
      "8910    0\n",
      "5425    0\n",
      "6139    0\n",
      "210     1\n",
      "7606    0\n",
      "9739    0\n",
      "5299    0\n",
      "5582    0\n",
      "6415    0\n",
      "7442    0\n",
      "2345    0\n",
      "4337    0\n",
      "1153    1\n",
      "3055    0\n",
      "Name: 1, Length: 2987, dtype: int64\n",
      "[0 0 0 ... 0 0 0]\n"
     ]
    }
   ],
   "source": []
  },
  {
   "cell_type": "code",
   "execution_count": null,
   "metadata": {},
   "outputs": [],
   "source": []
  }
 ],
 "metadata": {
  "kernelspec": {
   "display_name": "Python 3",
   "language": "python",
   "name": "python3"
  },
  "language_info": {
   "codemirror_mode": {
    "name": "ipython",
    "version": 3
   },
   "file_extension": ".py",
   "mimetype": "text/x-python",
   "name": "python",
   "nbconvert_exporter": "python",
   "pygments_lexer": "ipython3",
   "version": "3.6.5"
  }
 },
 "nbformat": 4,
 "nbformat_minor": 2
}
